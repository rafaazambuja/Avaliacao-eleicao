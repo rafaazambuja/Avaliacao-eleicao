{
 "cells": [
  {
   "cell_type": "code",
   "execution_count": null,
   "id": "57670628-351d-42db-a448-f5d385ae8f7e",
   "metadata": {},
   "outputs": [],
   "source": [
    "class Morador:\n",
    "    def __init__(self, nome=None, apartamento=None):\n",
    "        \n",
    "        ## Rever a parte dos inputs\n",
    "        if nome == None:\n",
    "            nome = input('Digite o nome do morador: ')\n",
    "        \n",
    "        if apartamento == None:\n",
    "            apartamento = int(input('Digite o numero do apartamento'))\n",
    "            \n",
    "            \n",
    "            # chama o metodo add_morador da classe Apartamento ***** \n",
    "            #(transformar num_apartamento de str para obj)  \n",
    "            apartamento.add_morador(nome)\n",
    "        \n",
    "        \n",
    "        self.nome = nome\n",
    "        self.apartamento = Apartamento\n",
    "    \n",
    "    \n",
    "    def __repr__(self):\n",
    "        return f'{self.nome}'\n",
    "        "
   ]
  },
  {
   "cell_type": "code",
   "execution_count": null,
   "id": "ee783183-68c3-43f0-86b8-26e3e90c48bd",
   "metadata": {},
   "outputs": [],
   "source": [
    "Rafael = Morador('Rafael', Ap101)\n",
    "\n",
    "Rafael.apartamento"
   ]
  },
  {
   "cell_type": "code",
   "execution_count": 4,
   "id": "0c449329-a75a-46b2-9c5c-ce1b8e173be1",
   "metadata": {},
   "outputs": [],
   "source": [
    "# Crie sua classe Apartamento aqui\n",
    "class Apartamento:\n",
    "    def _init_(self, numero_ap=None, lista_moradores=None):\n",
    "        self.numero_ap = numero_ap\n",
    "        self.registrou_voto = False \n",
    "        \n",
    "        if (lista_moradores is None):\n",
    "            self.lista_moradores = []\n",
    "            \n",
    "        if (numero_ap is None):\n",
    "            self.numero_ap = int(input(\"Digite o numero do seu ap\"))\n",
    "                   \n",
    "            \n",
    "    def imprimir_moradores():\n",
    "        print(f\"Os moradores do apartamento {self.numero_ap} são: {self.lista_moradore}\")\n",
    "        \n",
    "    def incluir_novo_morador(self, novo_morador): \n",
    "        self.lista_moradores.append(novo_morador)"
   ]
  },
  {
   "cell_type": "code",
   "execution_count": 5,
   "id": "282b2c5f-caf5-430b-8bb5-15fc0933f9c8",
   "metadata": {},
   "outputs": [],
   "source": [
    "class Morador:\n",
    "    def _init_(self, nome, apartamento):\n",
    "        self.nome = nome\n",
    "        self.apartamento = Apartamento"
   ]
  },
  {
   "cell_type": "code",
   "execution_count": 6,
   "id": "0b23d7ae-6ab3-46fa-8b68-e8968ba0002e",
   "metadata": {},
   "outputs": [
    {
     "ename": "TypeError",
     "evalue": "Morador() takes no arguments",
     "output_type": "error",
     "traceback": [
      "\u001b[0;31m---------------------------------------------------------------------------\u001b[0m",
      "\u001b[0;31mTypeError\u001b[0m                                 Traceback (most recent call last)",
      "\u001b[0;32m/tmp/ipykernel_154/4113263279.py\u001b[0m in \u001b[0;36m<module>\u001b[0;34m\u001b[0m\n\u001b[1;32m      1\u001b[0m \u001b[0mcasa16\u001b[0m \u001b[0;34m=\u001b[0m \u001b[0mApartamento\u001b[0m\u001b[0;34m(\u001b[0m\u001b[0;34m)\u001b[0m\u001b[0;34m\u001b[0m\u001b[0;34m\u001b[0m\u001b[0m\n\u001b[1;32m      2\u001b[0m \u001b[0mcasa16\u001b[0m\u001b[0;34m\u001b[0m\u001b[0;34m\u001b[0m\u001b[0m\n\u001b[0;32m----> 3\u001b[0;31m \u001b[0mgabi\u001b[0m \u001b[0;34m=\u001b[0m \u001b[0mMorador\u001b[0m\u001b[0;34m(\u001b[0m\u001b[0;34m\"Gabi\"\u001b[0m\u001b[0;34m,\u001b[0m \u001b[0mcasa16\u001b[0m\u001b[0;34m)\u001b[0m\u001b[0;34m\u001b[0m\u001b[0;34m\u001b[0m\u001b[0m\n\u001b[0m\u001b[1;32m      4\u001b[0m \u001b[0;34m\u001b[0m\u001b[0m\n\u001b[1;32m      5\u001b[0m \u001b[0mgabi\u001b[0m\u001b[0;34m.\u001b[0m\u001b[0mapartamento\u001b[0m\u001b[0;34m\u001b[0m\u001b[0;34m\u001b[0m\u001b[0m\n",
      "\u001b[0;31mTypeError\u001b[0m: Morador() takes no arguments"
     ]
    }
   ],
   "source": [
    "casa16 = Apartamento()\n",
    "casa16\n",
    "gabi = Morador(\"Gabi\", casa16)\n",
    "\n",
    "gabi.apartamento"
   ]
  },
  {
   "cell_type": "code",
   "execution_count": null,
   "id": "c847215a-c775-4c0a-84f2-8ed3ca74c727",
   "metadata": {},
   "outputs": [],
   "source": [
    "class Candidato(Morador):\n",
    "    def __init__(self):\n",
    "        "
   ]
  },
  {
   "cell_type": "code",
   "execution_count": null,
   "id": "64c13d91-22d5-4458-9a54-8e1f344e1222",
   "metadata": {},
   "outputs": [],
   "source": [
    "Ap101 = Apartamento(101)\n",
    "\n",
    "#Ap101.add_morador('Rafael')\n",
    "\n",
    "Ap101.mostrar_moradores()"
   ]
  },
  {
   "cell_type": "code",
   "execution_count": null,
   "id": "94f21dd4-8717-477a-bf56-8829f9d43374",
   "metadata": {},
   "outputs": [],
   "source": [
    "class Apartamento:\n",
    "    def __init__(self, num_apartamento):\n",
    "        \n",
    "        self.num_apartamento = num_apartamento\n",
    "        \n",
    "        # recebe a lista de moradores de cada apartamento\n",
    "        self.lista_moradores = []\n",
    "        \n",
    "        # Booleano que informa se o apartamento já registrou o voto\n",
    "        ### Criar um bloqueio para essa variável só ser editada dentro de urna \n",
    "        self.registrou_voto = False\n",
    "        \n",
    "        \n",
    "    def add_morador(self, pessoa):\n",
    "        '''\n",
    "        \n",
    "        '''\n",
    "        # if not isinstance(pessoa, Morador)\n",
    "        #     raise TypeError(\"A pessoa precisa ser um objeto da classe Morador\")\n",
    "        \n",
    "        self.lista_moradores.append(pessoa)\n",
    "    \n",
    "    \n",
    "    def mostrar_moradores(self):\n",
    "        print(self.lista_moradores)\n",
    "    \n",
    "    \n",
    "    def __repr__(self):\n",
    "        return f'{self.num_apartamento}'\n",
    "    "
   ]
  },
  {
   "cell_type": "code",
   "execution_count": null,
   "id": "db31af39-063a-47c6-ab72-235dec207329",
   "metadata": {},
   "outputs": [],
   "source": [
    "lista_apartamentos = [Ap101, Ap102, Ap103]\n",
    "\n",
    "Ap101 = Apartamento()"
   ]
  },
  {
   "cell_type": "code",
   "execution_count": null,
   "id": "bd7bbf83-44dc-4d73-adfa-c2f33d16877b",
   "metadata": {},
   "outputs": [],
   "source": [
    "class Urna:\n",
    "    def __init__(self, voto):\n",
    "        self.__voto = voto\n",
    "    \n",
    "    def __registra_voto"
   ]
  },
  {
   "cell_type": "code",
   "execution_count": null,
   "id": "22581f80-beb9-443f-90a8-888e8668ac70",
   "metadata": {},
   "outputs": [],
   "source": [
    "apartamentos = {1:[]}"
   ]
  }
 ],
 "metadata": {
  "kernelspec": {
   "display_name": "Python 3 (ipykernel)",
   "language": "python",
   "name": "python3"
  },
  "language_info": {
   "codemirror_mode": {
    "name": "ipython",
    "version": 3
   },
   "file_extension": ".py",
   "mimetype": "text/x-python",
   "name": "python",
   "nbconvert_exporter": "python",
   "pygments_lexer": "ipython3",
   "version": "3.9.7"
  }
 },
 "nbformat": 4,
 "nbformat_minor": 5
}
